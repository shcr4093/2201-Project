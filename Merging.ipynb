{
 "cells": [
  {
   "cell_type": "code",
   "execution_count": null,
   "id": "7f984beb",
   "metadata": {},
   "outputs": [],
   "source": [
    "#this is where I will be merging all 3 of my data sets\n",
    "import pandas as pd\n",
    "import numpy as np\"\n"
   ]
  },
  {
   "cell_type": "code",
   "execution_count": null,
   "id": "72202b1d",
   "metadata": {},
   "outputs": [],
   "source": [
    "#data set 1\n",
    "regular1 = pd.read_csv(\"regular1.csv\")\n",
    "regular2 = pd.read_csv(\"regular2.csv\")\n",
    "regular3 = pd.read_csv(\"regular3.csv\")"
   ]
  },
  {
   "cell_type": "code",
   "execution_count": null,
   "id": "11f42305",
   "metadata": {},
   "outputs": [],
   "source": []
  }
 ],
 "metadata": {
  "language_info": {
   "name": "python"
  }
 },
 "nbformat": 4,
 "nbformat_minor": 5
}
