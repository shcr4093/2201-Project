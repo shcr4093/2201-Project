{
 "cells": [
  {
   "cell_type": "code",
   "execution_count": null,
   "id": "7f984beb",
   "metadata": {},
   "outputs": [],
   "source": [
    "#this is where I will be merging all 3 of my data sets\n",
    "#I've learned all of these before, seaborn was used in INFO2201 last year during spring semester\n",
    "import pandas as pd\n",
    "import numpy as np\n",
    "import matplotlib.pyplot as plt\n",
    "import seaborn as sns\n"
   ]
  },
  {
   "cell_type": "code",
   "execution_count": 24,
   "id": "72202b1d",
   "metadata": {},
   "outputs": [],
   "source": [
    "#loading in the data sets\n",
    "regular1 = pd.read_csv(\"Raw Data/regular1.csv\")\n",
    "regular2 = pd.read_csv(\"Raw Data/regular 2.csv\")\n",
    "regular3 = pd.read_csv(\"Raw Data/regular 3.csv\")\n",
    "totals = pd.read_csv(\"Raw Data/regulartotals.csv\")\n"
   ]
  },
  {
   "cell_type": "code",
   "execution_count": 22,
   "id": "61c1be08",
   "metadata": {},
   "outputs": [],
   "source": [
    "#merging the data sets for simplicty\n",
    "stats = pd.concat([regular1, regular2, regular3], ignore_index=True)"
   ]
  },
  {
   "cell_type": "code",
   "execution_count": 34,
   "id": "6d528fc0",
   "metadata": {},
   "outputs": [],
   "source": [
    "#renaming the columns of the next file so they can merge\n",
    "stats.rename(columns={\n",
    "    'SEASON_YEAR': 'season_year',\n",
    "    'TEAM_ID': 'teamId',\n",
    "    'GAME_ID': 'gameId'}, inplace=True)\n"
   ]
  },
  {
   "cell_type": "code",
   "execution_count": 42,
   "id": "caee4c52",
   "metadata": {},
   "outputs": [],
   "source": [
    "#renaming the columns of the totals file so they can merge\n",
    "#one file had upper case column names and the other had lower case\n",
    "totals.rename(columns={\n",
    "    'SEASON_YEAR': 'season_year',\n",
    "    'TEAM_ID': 'teamId',\n",
    "    'GAME_ID': 'gameId'\n",
    "}, inplace=True)\n",
    "\n",
    "#using pd.merge to merge the two data sets on season year, team id, and game id\n",
    "winloss = pd.merge(\n",
    "    stats,\n",
    "    totals[['season_year', 'teamId', 'gameId', 'WL']],\n",
    "    on=['season_year', 'teamId', 'gameId'],\n",
    "    how='left'\n",
    ")\n"
   ]
  },
  {
   "cell_type": "code",
   "execution_count": null,
   "id": "817f1a19",
   "metadata": {},
   "outputs": [],
   "source": [
    "\n",
    "#creating a new csv so I don't lose the data\n",
    "winloss.to_csv(\"merged_winloss_data.csv\", index=False)"
   ]
  },
  {
   "cell_type": "code",
   "execution_count": 51,
   "id": "d68b2d4f",
   "metadata": {},
   "outputs": [],
   "source": [
    "#filtering the players in the merged data set by the players involved in the trade\n",
    "players = ['Kawhi Leonard', 'DeMar DeRozan']\n",
    "tradedata1 = winloss[winloss['personName'].isin(players)]"
   ]
  },
  {
   "cell_type": "code",
   "execution_count": null,
   "id": "ef086a4a",
   "metadata": {},
   "outputs": [],
   "source": [
    "#this code aggregates the data by player and season, calculating total games played, total points scored, and average plus-minus points\n",
    "#the total points data will be divided by the games played to get a points per game average\n",
    "\n",
    "tradestats1 = tradedata1.groupby(['personName', 'season_year']).agg(\n",
    "    games_played=('gameId', 'nunique'),\n",
    "    total_points=('points', 'sum'),\n",
    "    avg_plus_minus=('plusMinusPoints', 'mean')\n",
    ").reset_index()\n"
   ]
  },
  {
   "cell_type": "code",
   "execution_count": 74,
   "id": "8c04cb0b",
   "metadata": {},
   "outputs": [],
   "source": [
    "# creating a new points per game column calculated by total points divided by games played\n",
    "tradestats1 = tradedata1.groupby(['personName', 'season_year']).agg(\n",
    "    games_played=('gameId', 'nunique'),\n",
    "    total_points=('points', 'sum'),\n",
    "    avg_plus_minus=('plusMinusPoints', 'mean')\n",
    ").reset_index()\n",
    "\n",
    "#created a new points per game column calculated by total points divided by games played\n",
    "tradestats1['ppg'] = tradestats1['total_points'] / tradestats1['games_played']\n",
    "#reordering the columns for better readability\n",
    "tradestats1 = tradestats1[['personName', 'season_year', 'games_played', 'ppg', 'avg_plus_minus']]"
   ]
  },
  {
   "cell_type": "code",
   "execution_count": 95,
   "id": "5a64c399",
   "metadata": {},
   "outputs": [],
   "source": [
    "# CHARTS FOR THE TRADE\n",
    "tradeseasons1 = ['2016-17', '2017-18', '2018-19']\n",
    "filtered1 = tradestats1[\n",
    "    (tradestats1['personName'].isin(['Kawhi Leonard', 'DeMar DeRozan'])) &\n",
    "    (tradestats1['season_year'].isin(tradeseasons1))\n",
    "]\n",
    "\n"
   ]
  },
  {
   "cell_type": "code",
   "execution_count": 106,
   "id": "b8b46c89",
   "metadata": {},
   "outputs": [
    {
     "name": "stderr",
     "output_type": "stream",
     "text": [
      "C:\\Users\\crawf\\AppData\\Local\\Temp\\ipykernel_81964\\2029336494.py:3: FutureWarning: \n",
      "\n",
      "The `ci` parameter is deprecated. Use `errorbar=None` for the same effect.\n",
      "\n",
      "  sns.barplot(\n"
     ]
    },
    {
     "data": {
      "image/png": "[encoded data removed]",
      "text/plain": [
       "<Figure size 800x600 with 1 Axes>"
      ]
     },
     "metadata": {},
     "output_type": "display_data"
    }
   ],
   "source": [
    "# this is a bar chart for points per game before and after the trade\n",
    "plt.figure(figsize=(8, 6))\n",
    "sns.barplot(\n",
    "    data=filtered1,\n",
    "    x='personName',\n",
    "    y='ppg',\n",
    "    hue='trade_period',\n",
    "    hue_order=['Before', 'After'],\n",
    "    ci=None  # disables error bars\n",
    ")\n",
    "\n",
    "plt.title('PPG Before and After Trade: Kawhi Leonard vs DeMar DeRozan')\n",
    "plt.xlabel('Player')\n",
    "plt.ylabel('Points Per Game (PPG)')\n",
    "plt.legend(title='Trade Period')\n",
    "plt.tight_layout()\n",
    "plt.show()\n",
    "\n"
   ]
  }
 ],
 "metadata": {
  "kernelspec": {
   "display_name": "Python 3",
   "language": "python",
   "name": "python3"
  },
  "language_info": {
   "codemirror_mode": {
    "name": "ipython",
    "version": 3
   },
   "file_extension": ".py",
   "mimetype": "text/x-python",
   "name": "python",
   "nbconvert_exporter": "python",
   "pygments_lexer": "ipython3",
   "version": "3.11.9"
  }
 },
 "nbformat": 4,
 "nbformat_minor": 5
}
